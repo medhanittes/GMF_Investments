{
 "cells": [
  {
   "cell_type": "code",
   "execution_count": 13,
   "metadata": {},
   "outputs": [
    {
     "ename": "ModuleNotFoundError",
     "evalue": "No module named 'matplotlib'",
     "output_type": "error",
     "traceback": [
      "\u001b[1;31m---------------------------------------------------------------------------\u001b[0m",
      "\u001b[1;31mModuleNotFoundError\u001b[0m                       Traceback (most recent call last)",
      "Cell \u001b[1;32mIn[13], line 3\u001b[0m\n\u001b[0;32m      1\u001b[0m \u001b[38;5;28;01mimport\u001b[39;00m \u001b[38;5;21;01myfinance\u001b[39;00m \u001b[38;5;28;01mas\u001b[39;00m \u001b[38;5;21;01myf\u001b[39;00m\n\u001b[0;32m      2\u001b[0m \u001b[38;5;28;01mimport\u001b[39;00m \u001b[38;5;21;01mpandas\u001b[39;00m \u001b[38;5;28;01mas\u001b[39;00m \u001b[38;5;21;01mpd\u001b[39;00m\n\u001b[1;32m----> 3\u001b[0m \u001b[38;5;28;01mimport\u001b[39;00m \u001b[38;5;21;01mmatplotlib\u001b[39;00m\u001b[38;5;21;01m.\u001b[39;00m\u001b[38;5;21;01mpyplot\u001b[39;00m \u001b[38;5;28;01mas\u001b[39;00m \u001b[38;5;21;01mplt\u001b[39;00m\n",
      "\u001b[1;31mModuleNotFoundError\u001b[0m: No module named 'matplotlib'"
     ]
    }
   ],
   "source": [
    "import yfinance as yf\n",
    "import pandas as pd\n",
    "import matplotlib.pyplot as plt"
   ]
  },
  {
   "cell_type": "code",
   "execution_count": null,
   "metadata": {},
   "outputs": [
    {
     "name": "stderr",
     "output_type": "stream",
     "text": [
      "[*********************100%***********************]  1 of 1 completed\n",
      "[*********************100%***********************]  1 of 1 completed\n",
      "[*********************100%***********************]  1 of 1 completed\n"
     ]
    }
   ],
   "source": [
    "# Define the tickers and date range\n",
    "tickers = ['TSLA', 'BND', 'SPY']\n",
    "start_date = '2015-01-01'\n",
    "end_date = '2024-10-31'\n",
    "\n",
    "# Load the data\n",
    "data = {ticker: yf.download(ticker, start=start_date, end=end_date) for ticker in tickers}"
   ]
  },
  {
   "cell_type": "code",
   "execution_count": null,
   "metadata": {},
   "outputs": [
    {
     "name": "stdout",
     "output_type": "stream",
     "text": [
      "Data for TSLA:\n",
      "<class 'pandas.core.frame.DataFrame'>\n",
      "DatetimeIndex: 2474 entries, 2015-01-02 00:00:00+00:00 to 2024-10-30 00:00:00+00:00\n",
      "Data columns (total 6 columns):\n",
      " #   Column             Non-Null Count  Dtype  \n",
      "---  ------             --------------  -----  \n",
      " 0   (Adj Close, TSLA)  2474 non-null   float64\n",
      " 1   (Close, TSLA)      2474 non-null   float64\n",
      " 2   (High, TSLA)       2474 non-null   float64\n",
      " 3   (Low, TSLA)        2474 non-null   float64\n",
      " 4   (Open, TSLA)       2474 non-null   float64\n",
      " 5   (Volume, TSLA)     2474 non-null   int64  \n",
      "dtypes: float64(5), int64(1)\n",
      "memory usage: 135.3 KB\n",
      "None\n",
      "Price     Adj Close        Close         High          Low         Open  \\\n",
      "Ticker         TSLA         TSLA         TSLA         TSLA         TSLA   \n",
      "count   2474.000000  2474.000000  2474.000000  2474.000000  2474.000000   \n",
      "mean     111.438965   111.438965   113.895836   108.869421   111.461872   \n",
      "std      110.120450   110.120450   112.643277   107.541830   110.208156   \n",
      "min        9.578000     9.578000    10.331333     9.403333     9.488000   \n",
      "25%       17.066167    17.066167    17.368167    16.790167    17.058499   \n",
      "50%       25.043000    25.043000    25.279000    24.462334    24.986667   \n",
      "75%      216.865002   216.865002   221.910004   212.084999   217.264999   \n",
      "max      409.970001   409.970001   414.496674   405.666656   411.470001   \n",
      "\n",
      "Price         Volume  \n",
      "Ticker          TSLA  \n",
      "count   2.474000e+03  \n",
      "mean    1.125745e+08  \n",
      "std     7.449619e+07  \n",
      "min     1.062000e+07  \n",
      "25%     6.682590e+07  \n",
      "50%     9.289395e+07  \n",
      "75%     1.301899e+08  \n",
      "max     9.140820e+08  \n",
      "Data for BND:\n",
      "<class 'pandas.core.frame.DataFrame'>\n",
      "DatetimeIndex: 2474 entries, 2015-01-02 00:00:00+00:00 to 2024-10-30 00:00:00+00:00\n",
      "Data columns (total 6 columns):\n",
      " #   Column            Non-Null Count  Dtype  \n",
      "---  ------            --------------  -----  \n",
      " 0   (Adj Close, BND)  2474 non-null   float64\n",
      " 1   (Close, BND)      2474 non-null   float64\n",
      " 2   (High, BND)       2474 non-null   float64\n",
      " 3   (Low, BND)        2474 non-null   float64\n",
      " 4   (Open, BND)       2474 non-null   float64\n",
      " 5   (Volume, BND)     2474 non-null   int64  \n",
      "dtypes: float64(5), int64(1)\n",
      "memory usage: 135.3 KB\n",
      "None\n",
      "Price     Adj Close        Close         High          Low         Open  \\\n",
      "Ticker          BND          BND          BND          BND          BND   \n",
      "count   2474.000000  2474.000000  2474.000000  2474.000000  2474.000000   \n",
      "mean      70.089252    80.316039    80.431152    80.198464    80.319968   \n",
      "std        4.889918     5.097592     5.082268     5.113232     5.100419   \n",
      "min       62.637543    68.040001    68.379997    67.989998    68.080002   \n",
      "25%       66.314087    76.379997    76.674999    76.265001    76.502501   \n",
      "50%       68.888935    81.410004    81.519997    81.300003    81.410004   \n",
      "75%       73.807495    84.010002    84.167500    83.937502    84.047503   \n",
      "max       79.812927    89.480003    89.589996    89.440002    89.550003   \n",
      "\n",
      "Price         Volume  \n",
      "Ticker           BND  \n",
      "count   2.474000e+03  \n",
      "mean    4.169014e+06  \n",
      "std     2.778389e+06  \n",
      "min     0.000000e+00  \n",
      "25%     2.024900e+06  \n",
      "50%     3.710900e+06  \n",
      "75%     5.519825e+06  \n",
      "max     3.193720e+07  \n",
      "Data for SPY:\n",
      "<class 'pandas.core.frame.DataFrame'>\n",
      "DatetimeIndex: 2474 entries, 2015-01-02 00:00:00+00:00 to 2024-10-30 00:00:00+00:00\n",
      "Data columns (total 6 columns):\n",
      " #   Column            Non-Null Count  Dtype  \n",
      "---  ------            --------------  -----  \n",
      " 0   (Adj Close, SPY)  2474 non-null   float64\n",
      " 1   (Close, SPY)      2474 non-null   float64\n",
      " 2   (High, SPY)       2474 non-null   float64\n",
      " 3   (Low, SPY)        2474 non-null   float64\n",
      " 4   (Open, SPY)       2474 non-null   float64\n",
      " 5   (Volume, SPY)     2474 non-null   int64  \n",
      "dtypes: float64(5), int64(1)\n",
      "memory usage: 135.3 KB\n",
      "None\n",
      "Price     Adj Close        Close         High          Low         Open  \\\n",
      "Ticker          SPY          SPY          SPY          SPY          SPY   \n",
      "count   2474.000000  2474.000000  2474.000000  2474.000000  2474.000000   \n",
      "mean     310.253153   330.623634   332.368856   328.614426   330.570376   \n",
      "std      111.250657   103.324179   103.840765   102.719137   103.311248   \n",
      "min      157.328522   182.860001   184.100006   181.020004   182.339996   \n",
      "25%      214.822323   242.130001   243.380005   240.692501   242.302498   \n",
      "50%      275.812317   298.089996   299.324997   296.804993   298.095001   \n",
      "75%      402.297493   416.212502   418.242500   413.687500   416.240005   \n",
      "max      584.590027   584.590027   586.119995   582.580017   585.909973   \n",
      "\n",
      "Price         Volume  \n",
      "Ticker           SPY  \n",
      "count   2.474000e+03  \n",
      "mean    8.810268e+07  \n",
      "std     4.491678e+07  \n",
      "min     2.027000e+07  \n",
      "25%     5.960170e+07  \n",
      "50%     7.696935e+07  \n",
      "75%     1.027178e+08  \n",
      "max     5.072443e+08  \n"
     ]
    }
   ],
   "source": [
    "# Explore each dataset\n",
    "for ticker, df in data.items():\n",
    "    print(f\"Data for {ticker}:\")\n",
    "    print(df.info())  # Check data types and missing values\n",
    "    print(df.describe())  # Check basic statistics\n",
    "    \n",
    "    # Handle missing values\n",
    "    df.dropna(inplace=True)  # or use df.fillna(method='ffill', inplace=True)\n",
    "\n",
    "    # Ensure appropriate data types\n",
    "    df['Date'] = df.index\n",
    "    df['Adj Close'] = df['Adj Close'].astype(float)"
   ]
  },
  {
   "cell_type": "code",
   "execution_count": null,
   "metadata": {},
   "outputs": [
    {
     "ename": "NameError",
     "evalue": "name 'plt' is not defined",
     "output_type": "error",
     "traceback": [
      "\u001b[1;31m---------------------------------------------------------------------------\u001b[0m",
      "\u001b[1;31mNameError\u001b[0m                                 Traceback (most recent call last)",
      "Cell \u001b[1;32mIn[7], line 2\u001b[0m\n\u001b[0;32m      1\u001b[0m \u001b[38;5;28;01mfor\u001b[39;00m ticker \u001b[38;5;129;01min\u001b[39;00m tickers:\n\u001b[1;32m----> 2\u001b[0m     \u001b[43mplt\u001b[49m\u001b[38;5;241m.\u001b[39mfigure(figsize\u001b[38;5;241m=\u001b[39m(\u001b[38;5;241m12\u001b[39m, \u001b[38;5;241m6\u001b[39m))\n\u001b[0;32m      3\u001b[0m     plt\u001b[38;5;241m.\u001b[39mplot(data[ticker][\u001b[38;5;124m'\u001b[39m\u001b[38;5;124mAdj Close\u001b[39m\u001b[38;5;124m'\u001b[39m], label\u001b[38;5;241m=\u001b[39m\u001b[38;5;124mf\u001b[39m\u001b[38;5;124m'\u001b[39m\u001b[38;5;132;01m{\u001b[39;00mticker\u001b[38;5;132;01m}\u001b[39;00m\u001b[38;5;124m Adjusted Close\u001b[39m\u001b[38;5;124m'\u001b[39m)\n\u001b[0;32m      4\u001b[0m     plt\u001b[38;5;241m.\u001b[39mtitle(\u001b[38;5;124mf\u001b[39m\u001b[38;5;124m'\u001b[39m\u001b[38;5;132;01m{\u001b[39;00mticker\u001b[38;5;132;01m}\u001b[39;00m\u001b[38;5;124m Adjusted Close Price Over Time\u001b[39m\u001b[38;5;124m'\u001b[39m)\n",
      "\u001b[1;31mNameError\u001b[0m: name 'plt' is not defined"
     ]
    }
   ],
   "source": [
    "\n",
    "for ticker in tickers:\n",
    "    plt.figure(figsize=(12, 6))\n",
    "    plt.plot(data[ticker]['Adj Close'], label=f'{ticker} Adjusted Close')\n",
    "    plt.title(f'{ticker} Adjusted Close Price Over Time')\n",
    "    plt.xlabel('Date')\n",
    "    plt.ylabel('Price')\n",
    "    plt.legend()\n",
    "    plt.grid()\n",
    "    plt.show()"
   ]
  }
 ],
 "metadata": {
  "kernelspec": {
   "display_name": "myvenv",
   "language": "python",
   "name": "python3"
  },
  "language_info": {
   "codemirror_mode": {
    "name": "ipython",
    "version": 3
   },
   "file_extension": ".py",
   "mimetype": "text/x-python",
   "name": "python",
   "nbconvert_exporter": "python",
   "pygments_lexer": "ipython3",
   "version": "3.12.6"
  }
 },
 "nbformat": 4,
 "nbformat_minor": 2
}
